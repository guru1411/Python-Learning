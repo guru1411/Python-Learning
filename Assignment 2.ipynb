{
  "cells": [
    {
      "metadata": {
        "_uuid": "8f2839f25d086af736a60e9eeb907d3b93b6e0e5",
        "_cell_guid": "b1076dfc-b9ad-4769-8c92-a6c4dae69d19",
        "trusted": true
      },
      "cell_type": "code",
      "source": "# This Python 3 environment comes with many helpful analytics libraries installed\n# It is defined by the kaggle/python docker image: https://github.com/kaggle/docker-python\n# For example, here's several helpful packages to load in \n\nimport numpy as np # linear algebra\nimport pandas as pd # data processing, CSV file I/O (e.g. pd.read_csv)\n\n# Input data files are available in the \"../input/\" directory.\n# For example, running this (by clicking run or pressing Shift+Enter) will list the files in the input directory\n\nimport os\nprint(os.listdir(\"../input\"))\n\n# Any results you write to the current directory are saved as output.",
      "execution_count": null,
      "outputs": []
    },
    {
      "metadata": {
        "_cell_guid": "79c7e3d0-c299-4dcb-8224-4455121ee9b0",
        "collapsed": true,
        "_uuid": "d629ff2d2480ee46fbb7e2d37f6b5fab8052498a",
        "trusted": false
      },
      "cell_type": "markdown",
      "source": "# ASSIGNMENT 2 (01.25.2019)"
    },
    {
      "metadata": {
        "_uuid": "8324fd983507f8c4b7651c482ed346cc856cb449"
      },
      "cell_type": "markdown",
      "source": "## Question 1: How to execute a user-defined addition function by passing just one parameter? (How to pass default arguments in Python?)"
    },
    {
      "metadata": {
        "trusted": true,
        "_uuid": "0b1766c4de4fb9ae81dfa520c883c024b5262f5e"
      },
      "cell_type": "code",
      "source": "def my_addition(a, b=0):\n    print(a + b)",
      "execution_count": 1,
      "outputs": []
    },
    {
      "metadata": {
        "trusted": true,
        "_uuid": "23f584d9cfb45deaffa7a0be90368edc163c778c"
      },
      "cell_type": "code",
      "source": "my_addition(10)",
      "execution_count": 2,
      "outputs": [
        {
          "output_type": "stream",
          "text": "10\n",
          "name": "stdout"
        }
      ]
    },
    {
      "metadata": {
        "trusted": true,
        "_uuid": "402a7a80afaa78fde8f71b2c14719102c2cee75d"
      },
      "cell_type": "code",
      "source": "my_addition(10, 20)",
      "execution_count": 3,
      "outputs": [
        {
          "output_type": "stream",
          "text": "30\n",
          "name": "stdout"
        }
      ]
    },
    {
      "metadata": {
        "trusted": true,
        "_uuid": "f370b8f63fa56cc1c4f929cf945a701f871627cf"
      },
      "cell_type": "code",
      "source": "my_addition(10, 30)",
      "execution_count": 4,
      "outputs": [
        {
          "output_type": "stream",
          "text": "40\n",
          "name": "stdout"
        }
      ]
    },
    {
      "metadata": {
        "_uuid": "f00181e94a2677378bfbf7514bd350344cdab3ac"
      },
      "cell_type": "markdown",
      "source": "### Answer:\n#### Adding b=0 as the second argument in function definition would let the passing of just one value to the my_addition function. It will also accept two numbers being passed, where the second number will replace the '0' value. In the case of my_addition(10, 20), '20' replaces or overwrites the default '0' value."
    },
    {
      "metadata": {
        "_uuid": "50b89f2acd0c22234fa91236f34aa9c4e771c873"
      },
      "cell_type": "markdown",
      "source": "## Question 2: Write a function to check whether or not a number lies within a specified condition "
    },
    {
      "metadata": {
        "trusted": true,
        "_uuid": "633be09b5c3c8080f969cdcbb71de23c904d6ad5"
      },
      "cell_type": "code",
      "source": "def check_value_within_condition(a):\n    if ((a >= 10) & (a <= 20)):\n        print(a, \"is between 10 and 20\")\n    elif ((a >= 20) & (a <= 30)):\n        print(a, \"is between 20 and 30\")\n    elif ((a >= 30) & (a <= 40)):\n        print(a, \"is between 30 and 40\")\n    elif ((a >= 40) & (a <= 50)):\n        print(a, \"is between 40 and 50\")\n    else:\n        print(a, \"is not within condition\")",
      "execution_count": 21,
      "outputs": []
    },
    {
      "metadata": {
        "trusted": true,
        "_uuid": "6f08f2b35ba2f159ab01e3b0d636f8efb06c88af"
      },
      "cell_type": "code",
      "source": "check_value_within_condition(25)",
      "execution_count": 22,
      "outputs": [
        {
          "output_type": "stream",
          "text": "25 is between 20 and 30\n",
          "name": "stdout"
        }
      ]
    },
    {
      "metadata": {
        "trusted": true,
        "_uuid": "30b4ac6d8bf2dc5e03ebb8025de40e1fc1c1fce2"
      },
      "cell_type": "code",
      "source": "check_value_within_condition(45)",
      "execution_count": 23,
      "outputs": [
        {
          "output_type": "stream",
          "text": "45 is between 40 and 50\n",
          "name": "stdout"
        }
      ]
    },
    {
      "metadata": {
        "trusted": true,
        "_uuid": "a4cdd8a49cd7f4c5a0aa4cae84886fa9f31885f8"
      },
      "cell_type": "code",
      "source": "check_value_within_condition(35)",
      "execution_count": 24,
      "outputs": [
        {
          "output_type": "stream",
          "text": "35 is between 30 and 40\n",
          "name": "stdout"
        }
      ]
    },
    {
      "metadata": {
        "trusted": true,
        "_uuid": "1fc2237f6464b92db30b248c9877479d8b9af5e5"
      },
      "cell_type": "code",
      "source": "check_value_within_condition(15)",
      "execution_count": 25,
      "outputs": [
        {
          "output_type": "stream",
          "text": "15 is between 10 and 20\n",
          "name": "stdout"
        }
      ]
    },
    {
      "metadata": {
        "trusted": true,
        "_uuid": "1650665fa080d870f3a06562630de6556197f853"
      },
      "cell_type": "code",
      "source": "check_value_within_condition(5)",
      "execution_count": 26,
      "outputs": [
        {
          "output_type": "stream",
          "text": "5 is not within condition\n",
          "name": "stdout"
        }
      ]
    },
    {
      "metadata": {
        "trusted": true,
        "_uuid": "6fd50af92de93a0bd6a3770efa34e158498e83bd"
      },
      "cell_type": "code",
      "source": "check_value_within_condition(55)",
      "execution_count": 27,
      "outputs": [
        {
          "output_type": "stream",
          "text": "55 is not within condition\n",
          "name": "stdout"
        }
      ]
    },
    {
      "metadata": {
        "trusted": true,
        "_uuid": "c002534b9b1ace990809fd64520020bc696e1607"
      },
      "cell_type": "code",
      "source": "check_value_within_condition(10)",
      "execution_count": 28,
      "outputs": [
        {
          "output_type": "stream",
          "text": "10 is between 10 and 20\n",
          "name": "stdout"
        }
      ]
    },
    {
      "metadata": {
        "trusted": true,
        "_uuid": "330927e92ff60a8b28270c3a824b23acfa894dd2"
      },
      "cell_type": "code",
      "source": "check_value_within_condition(40)",
      "execution_count": 29,
      "outputs": [
        {
          "output_type": "stream",
          "text": "40 is between 30 and 40\n",
          "name": "stdout"
        }
      ]
    },
    {
      "metadata": {
        "trusted": true,
        "_uuid": "a6e0dc64ec20d3393adead8f8964cf267fb2dafa"
      },
      "cell_type": "code",
      "source": "",
      "execution_count": null,
      "outputs": []
    }
  ],
  "metadata": {
    "kernelspec": {
      "display_name": "Python 3",
      "language": "python",
      "name": "python3"
    },
    "language_info": {
      "name": "python",
      "version": "3.6.6",
      "mimetype": "text/x-python",
      "codemirror_mode": {
        "name": "ipython",
        "version": 3
      },
      "pygments_lexer": "ipython3",
      "nbconvert_exporter": "python",
      "file_extension": ".py"
    }
  },
  "nbformat": 4,
  "nbformat_minor": 1
}